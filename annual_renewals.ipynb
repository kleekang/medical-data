{
 "cells": [
  {
   "cell_type": "code",
   "execution_count": 1,
   "metadata": {},
   "outputs": [],
   "source": [
    "import pandas as pd"
   ]
  },
  {
   "cell_type": "code",
   "execution_count": 8,
   "metadata": {},
   "outputs": [],
   "source": [
    "renewal_list = pd.read_csv(\"https://data.chhs.ca.gov/dataset/6160a936-001a-4c45-a531-527e28096cee/resource/25736aa0-3f63-4d74-aaa6-5b432d53cbc0/download/med-abx11-5.1-renewal-april-2023-and-may-2023.csv\")"
   ]
  },
  {
   "cell_type": "code",
   "execution_count": 9,
   "metadata": {},
   "outputs": [
    {
     "data": {
      "text/html": [
       "<div>\n",
       "<style scoped>\n",
       "    .dataframe tbody tr th:only-of-type {\n",
       "        vertical-align: middle;\n",
       "    }\n",
       "\n",
       "    .dataframe tbody tr th {\n",
       "        vertical-align: top;\n",
       "    }\n",
       "\n",
       "    .dataframe thead th {\n",
       "        text-align: right;\n",
       "    }\n",
       "</style>\n",
       "<table border=\"1\" class=\"dataframe\">\n",
       "  <thead>\n",
       "    <tr style=\"text-align: right;\">\n",
       "      <th></th>\n",
       "      <th>Year</th>\n",
       "      <th>Renewal Due Month</th>\n",
       "      <th>Renewal Processing Timeframe</th>\n",
       "      <th>County</th>\n",
       "      <th>SAWS</th>\n",
       "      <th>Eligibility Financial Method</th>\n",
       "      <th>Renewals Due</th>\n",
       "      <th>Renewals Completed</th>\n",
       "      <th>Renewals Completed by Due Date</th>\n",
       "      <th>Continued Medi-Cal Eligibility</th>\n",
       "      <th>Auto Ex-Parte</th>\n",
       "      <th>Manual Ex-Parte</th>\n",
       "      <th>Discontinued - Failure to Respond</th>\n",
       "      <th>Discontinued - Over Income (MAGI) / Over property (Non-MAGI)</th>\n",
       "      <th>Discontinued - Other Reasons</th>\n",
       "      <th>Reinstated</th>\n",
       "      <th>Annotation Code</th>\n",
       "      <th>Annotation Code Description</th>\n",
       "    </tr>\n",
       "  </thead>\n",
       "  <tbody>\n",
       "    <tr>\n",
       "      <th>0</th>\n",
       "      <td>2018</td>\n",
       "      <td>2018-01</td>\n",
       "      <td>January 2018 - April 2018</td>\n",
       "      <td>Alameda</td>\n",
       "      <td>CalWIN</td>\n",
       "      <td>MAGI</td>\n",
       "      <td>22,762</td>\n",
       "      <td>20,136</td>\n",
       "      <td>15,161</td>\n",
       "      <td>14,997</td>\n",
       "      <td>7,531</td>\n",
       "      <td>15</td>\n",
       "      <td>4,067</td>\n",
       "      <td>466</td>\n",
       "      <td>489</td>\n",
       "      <td>1,974</td>\n",
       "      <td>NaN</td>\n",
       "      <td>NaN</td>\n",
       "    </tr>\n",
       "    <tr>\n",
       "      <th>1</th>\n",
       "      <td>2018</td>\n",
       "      <td>2018-01</td>\n",
       "      <td>January 2018 - April 2018</td>\n",
       "      <td>Contra Costa</td>\n",
       "      <td>CalWIN</td>\n",
       "      <td>MAGI</td>\n",
       "      <td>15,652</td>\n",
       "      <td>14,145</td>\n",
       "      <td>10,561</td>\n",
       "      <td>11,101</td>\n",
       "      <td>5,385</td>\n",
       "      <td>38</td>\n",
       "      <td>2,154</td>\n",
       "      <td>163</td>\n",
       "      <td>696</td>\n",
       "      <td>990</td>\n",
       "      <td>NaN</td>\n",
       "      <td>NaN</td>\n",
       "    </tr>\n",
       "    <tr>\n",
       "      <th>2</th>\n",
       "      <td>2018</td>\n",
       "      <td>2018-01</td>\n",
       "      <td>January 2018 - April 2018</td>\n",
       "      <td>Fresno</td>\n",
       "      <td>CalWIN</td>\n",
       "      <td>MAGI</td>\n",
       "      <td>34,273</td>\n",
       "      <td>34,085</td>\n",
       "      <td>31,269</td>\n",
       "      <td>29,265</td>\n",
       "      <td>11,450</td>\n",
       "      <td>128</td>\n",
       "      <td>902</td>\n",
       "      <td>364</td>\n",
       "      <td>3,091</td>\n",
       "      <td>1,953</td>\n",
       "      <td>NaN</td>\n",
       "      <td>NaN</td>\n",
       "    </tr>\n",
       "    <tr>\n",
       "      <th>3</th>\n",
       "      <td>2018</td>\n",
       "      <td>2018-01</td>\n",
       "      <td>January 2018 - April 2018</td>\n",
       "      <td>Orange</td>\n",
       "      <td>CalWIN</td>\n",
       "      <td>MAGI</td>\n",
       "      <td>58,023</td>\n",
       "      <td>54,665</td>\n",
       "      <td>41,598</td>\n",
       "      <td>44,368</td>\n",
       "      <td>20,237</td>\n",
       "      <td>116</td>\n",
       "      <td>6,502</td>\n",
       "      <td>596</td>\n",
       "      <td>2,987</td>\n",
       "      <td>4,307</td>\n",
       "      <td>NaN</td>\n",
       "      <td>NaN</td>\n",
       "    </tr>\n",
       "    <tr>\n",
       "      <th>4</th>\n",
       "      <td>2018</td>\n",
       "      <td>2018-01</td>\n",
       "      <td>January 2018 - April 2018</td>\n",
       "      <td>Placer</td>\n",
       "      <td>CalWIN</td>\n",
       "      <td>MAGI</td>\n",
       "      <td>3,963</td>\n",
       "      <td>3,850</td>\n",
       "      <td>3,115</td>\n",
       "      <td>3,094</td>\n",
       "      <td>1,352</td>\n",
       "      <td>66</td>\n",
       "      <td>441</td>\n",
       "      <td>47</td>\n",
       "      <td>236</td>\n",
       "      <td>255</td>\n",
       "      <td>NaN</td>\n",
       "      <td>NaN</td>\n",
       "    </tr>\n",
       "  </tbody>\n",
       "</table>\n",
       "</div>"
      ],
      "text/plain": [
       "   Year Renewal Due Month Renewal Processing Timeframe        County    SAWS  \\\n",
       "0  2018           2018-01    January 2018 - April 2018       Alameda  CalWIN   \n",
       "1  2018           2018-01    January 2018 - April 2018  Contra Costa  CalWIN   \n",
       "2  2018           2018-01    January 2018 - April 2018        Fresno  CalWIN   \n",
       "3  2018           2018-01    January 2018 - April 2018        Orange  CalWIN   \n",
       "4  2018           2018-01    January 2018 - April 2018        Placer  CalWIN   \n",
       "\n",
       "  Eligibility Financial Method Renewals Due  Renewals Completed  \\\n",
       "0                         MAGI        22,762             20,136   \n",
       "1                         MAGI        15,652             14,145   \n",
       "2                         MAGI        34,273             34,085   \n",
       "3                         MAGI        58,023             54,665   \n",
       "4                         MAGI         3,963              3,850   \n",
       "\n",
       "  Renewals Completed by Due Date Continued Medi-Cal Eligibility  \\\n",
       "0                         15,161                         14,997   \n",
       "1                         10,561                         11,101   \n",
       "2                         31,269                         29,265   \n",
       "3                         41,598                         44,368   \n",
       "4                          3,115                          3,094   \n",
       "\n",
       "   Auto Ex-Parte  Manual Ex-Parte Discontinued - Failure to Respond  \\\n",
       "0          7,531               15                             4,067   \n",
       "1          5,385               38                             2,154   \n",
       "2         11,450              128                               902   \n",
       "3         20,237              116                             6,502   \n",
       "4          1,352               66                               441   \n",
       "\n",
       "  Discontinued - Over Income (MAGI) / Over property (Non-MAGI)  \\\n",
       "0                                                466             \n",
       "1                                                163             \n",
       "2                                                364             \n",
       "3                                                596             \n",
       "4                                                 47             \n",
       "\n",
       "  Discontinued - Other Reasons Reinstated  Annotation Code  \\\n",
       "0                          489      1,974              NaN   \n",
       "1                          696        990              NaN   \n",
       "2                        3,091      1,953              NaN   \n",
       "3                        2,987      4,307              NaN   \n",
       "4                          236        255              NaN   \n",
       "\n",
       "  Annotation Code Description  \n",
       "0                         NaN  \n",
       "1                         NaN  \n",
       "2                         NaN  \n",
       "3                         NaN  \n",
       "4                         NaN  "
      ]
     },
     "execution_count": 9,
     "metadata": {},
     "output_type": "execute_result"
    }
   ],
   "source": [
    "renewal_list.head()"
   ]
  },
  {
   "cell_type": "code",
   "execution_count": 79,
   "metadata": {},
   "outputs": [],
   "source": [
    "year_one = renewal_list[renewal_list['Year'] == 2018]"
   ]
  },
  {
   "cell_type": "code",
   "execution_count": 106,
   "metadata": {},
   "outputs": [
    {
     "name": "stdout",
     "output_type": "stream",
     "text": [
      "<class 'pandas.core.frame.DataFrame'>\n",
      "Index: 1392 entries, 0 to 1391\n",
      "Data columns (total 19 columns):\n",
      " #   Column                                                        Non-Null Count  Dtype  \n",
      "---  ------                                                        --------------  -----  \n",
      " 0   Year                                                          1392 non-null   int64  \n",
      " 1   Renewal Due Month                                             1392 non-null   object \n",
      " 2   Renewal Processing Timeframe                                  1392 non-null   object \n",
      " 3   County                                                        1392 non-null   object \n",
      " 4   SAWS                                                          1392 non-null   object \n",
      " 5   Eligibility Financial Method                                  1392 non-null   object \n",
      " 6   Renewals Due                                                  1380 non-null   object \n",
      " 7   Renewals Completed                                            1381 non-null   object \n",
      " 8   Renewals Completed by Due Date                                1383 non-null   object \n",
      " 9   Continued Medi-Cal Eligibility                                1383 non-null   object \n",
      " 10   Auto Ex-Parte                                                1388 non-null   object \n",
      " 11   Manual Ex-Parte                                              1212 non-null   object \n",
      " 12  Discontinued - Failure to Respond                             1198 non-null   object \n",
      " 13  Discontinued - Over Income (MAGI) / Over property (Non-MAGI)  1266 non-null   object \n",
      " 14  Discontinued - Other Reasons                                  1200 non-null   object \n",
      " 15  Reinstated                                                    1135 non-null   object \n",
      " 16  Annotation Code                                               685 non-null    float64\n",
      " 17  Annotation Code Description                                   685 non-null    object \n",
      " 18  discontinued_failure                                          1198 non-null   object \n",
      "dtypes: float64(1), int64(1), object(17)\n",
      "memory usage: 217.5+ KB\n"
     ]
    }
   ],
   "source": [
    "year_one.info()"
   ]
  },
  {
   "cell_type": "code",
   "execution_count": 118,
   "metadata": {},
   "outputs": [
    {
     "name": "stderr",
     "output_type": "stream",
     "text": [
      "/tmp/ipykernel_7248/4113566945.py:8: SettingWithCopyWarning: \n",
      "A value is trying to be set on a copy of a slice from a DataFrame.\n",
      "Try using .loc[row_indexer,col_indexer] = value instead\n",
      "\n",
      "See the caveats in the documentation: https://pandas.pydata.org/pandas-docs/stable/user_guide/indexing.html#returning-a-view-versus-a-copy\n",
      "  year_one['discontinued_failure'] = year_one['Discontinued - Failure to Respond'].apply(convert_str_to_num)\n"
     ]
    }
   ],
   "source": [
    "def convert_str_to_num(val):\n",
    "    try:\n",
    "        clean_str = val.replace(',','')\n",
    "        return int(clean_str)\n",
    "    except AttributeError:\n",
    "        return 0\n",
    "\n",
    "# Create a new column by selecting the original, and applying a custom function. \n",
    "# Note that the function above is operating on a discrete value for Discontinued Failure etc.\n",
    "# for each row in the dataset\n",
    "year_one['discontinued_failure'] = year_one['Discontinued - Failure to Respond'].apply(convert_str_to_num)"
   ]
  },
  {
   "cell_type": "code",
   "execution_count": 119,
   "metadata": {},
   "outputs": [
    {
     "data": {
      "text/plain": [
       "0        4067\n",
       "1        2154\n",
       "2         902\n",
       "3        6502\n",
       "4         441\n",
       "        ...  \n",
       "1387        0\n",
       "1388       16\n",
       "1389        5\n",
       "1390    46426\n",
       "1391     8172\n",
       "Name: discontinued_failure, Length: 1392, dtype: int64"
      ]
     },
     "execution_count": 119,
     "metadata": {},
     "output_type": "execute_result"
    }
   ],
   "source": [
    "year_one.discontinued_failure"
   ]
  },
  {
   "cell_type": "code",
   "execution_count": 111,
   "metadata": {},
   "outputs": [
    {
     "data": {
      "text/plain": [
       "3"
      ]
     },
     "execution_count": 111,
     "metadata": {},
     "output_type": "execute_result"
    }
   ],
   "source": [
    "int(3.3)"
   ]
  },
  {
   "cell_type": "code",
   "execution_count": 94,
   "metadata": {},
   "outputs": [
    {
     "name": "stdout",
     "output_type": "stream",
     "text": [
      "<class 'pandas.core.frame.DataFrame'>\n",
      "Index: 1392 entries, 0 to 1391\n",
      "Data columns (total 18 columns):\n",
      " #   Column                                                        Non-Null Count  Dtype  \n",
      "---  ------                                                        --------------  -----  \n",
      " 0   Year                                                          1392 non-null   int64  \n",
      " 1   Renewal Due Month                                             1392 non-null   object \n",
      " 2   Renewal Processing Timeframe                                  1392 non-null   object \n",
      " 3   County                                                        1392 non-null   object \n",
      " 4   SAWS                                                          1392 non-null   object \n",
      " 5   Eligibility Financial Method                                  1392 non-null   object \n",
      " 6   Renewals Due                                                  1380 non-null   object \n",
      " 7   Renewals Completed                                            1381 non-null   object \n",
      " 8   Renewals Completed by Due Date                                1383 non-null   object \n",
      " 9   Continued Medi-Cal Eligibility                                1383 non-null   object \n",
      " 10   Auto Ex-Parte                                                1388 non-null   object \n",
      " 11   Manual Ex-Parte                                              1212 non-null   object \n",
      " 12  Discontinued - Failure to Respond                             1198 non-null   object \n",
      " 13  Discontinued - Over Income (MAGI) / Over property (Non-MAGI)  1266 non-null   object \n",
      " 14  Discontinued - Other Reasons                                  1200 non-null   object \n",
      " 15  Reinstated                                                    1135 non-null   object \n",
      " 16  Annotation Code                                               685 non-null    float64\n",
      " 17  Annotation Code Description                                   685 non-null    object \n",
      "dtypes: float64(1), int64(1), object(16)\n",
      "memory usage: 206.6+ KB\n"
     ]
    }
   ],
   "source": [
    "year_one.info()"
   ]
  },
  {
   "cell_type": "code",
   "execution_count": 93,
   "metadata": {},
   "outputs": [],
   "source": [
    "disc = year_one[\"Discontinued - Failure to Respond\"].astype(str)"
   ]
  },
  {
   "cell_type": "code",
   "execution_count": 91,
   "metadata": {},
   "outputs": [
    {
     "data": {
      "text/plain": [
       "0        4,067\n",
       "1        2,154\n",
       "2          902\n",
       "3        6,502\n",
       "4          441\n",
       "         ...  \n",
       "1387       nan\n",
       "1388        16\n",
       "1389         5\n",
       "1390    46,426\n",
       "1391     8,172\n",
       "Name: Discontinued - Failure to Respond, Length: 1392, dtype: object"
      ]
     },
     "execution_count": 91,
     "metadata": {},
     "output_type": "execute_result"
    }
   ],
   "source": [
    "disc"
   ]
  },
  {
   "cell_type": "code",
   "execution_count": null,
   "metadata": {},
   "outputs": [],
   "source": []
  }
 ],
 "metadata": {
  "kernelspec": {
   "display_name": "Python 3",
   "language": "python",
   "name": "python3"
  },
  "language_info": {
   "codemirror_mode": {
    "name": "ipython",
    "version": 3
   },
   "file_extension": ".py",
   "mimetype": "text/x-python",
   "name": "python",
   "nbconvert_exporter": "python",
   "pygments_lexer": "ipython3",
   "version": "3.10.8"
  }
 },
 "nbformat": 4,
 "nbformat_minor": 2
}
